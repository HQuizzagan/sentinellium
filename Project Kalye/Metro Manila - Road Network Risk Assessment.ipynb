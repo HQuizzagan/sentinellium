{
 "cells": [
  {
   "cell_type": "code",
   "execution_count": 1,
   "metadata": {},
   "outputs": [
    {
     "name": "stdout",
     "output_type": "stream",
     "text": [
      "Collecting osmnx\n",
      "  Downloading osmnx-0.16.0-py2.py3-none-any.whl (87 kB)\n",
      "\u001b[K     |████████████████████████████████| 87 kB 775 kB/s eta 0:00:011\n",
      "\u001b[?25hCollecting networkx>=2.5\n",
      "  Downloading networkx-2.5-py3-none-any.whl (1.6 MB)\n",
      "\u001b[K     |████████████████████████████████| 1.6 MB 12.6 MB/s eta 0:00:01\n",
      "\u001b[?25hRequirement already satisfied: pyproj>=2.6 in /home/ec2-user/anaconda3/envs/python3/lib/python3.6/site-packages (from osmnx) (2.6.1.post1)\n",
      "Collecting matplotlib>=3.3\n",
      "  Downloading matplotlib-3.3.2-cp36-cp36m-manylinux1_x86_64.whl (11.6 MB)\n",
      "\u001b[K     |████████████████████████████████| 11.6 MB 23.0 MB/s eta 0:00:01    |█▋                              | 583 kB 23.0 MB/s eta 0:00:01\n",
      "\u001b[?25hCollecting descartes>=1.1\n",
      "  Downloading descartes-1.1.0-py3-none-any.whl (5.8 kB)\n",
      "Collecting pandas>=1.1\n",
      "  Downloading pandas-1.1.2-cp36-cp36m-manylinux1_x86_64.whl (10.5 MB)\n",
      "\u001b[K     |████████████████████████████████| 10.5 MB 48.8 MB/s eta 0:00:01\n",
      "\u001b[?25hCollecting requests>=2.24\n",
      "  Using cached requests-2.24.0-py2.py3-none-any.whl (61 kB)\n",
      "Requirement already satisfied: Shapely>=1.7 in /home/ec2-user/anaconda3/envs/python3/lib/python3.6/site-packages (from osmnx) (1.7.1)\n",
      "Collecting numpy>=1.19\n",
      "  Downloading numpy-1.19.2-cp36-cp36m-manylinux2010_x86_64.whl (14.5 MB)\n",
      "\u001b[K     |████████████████████████████████| 14.5 MB 51.3 MB/s eta 0:00:01\n",
      "\u001b[?25hRequirement already satisfied: Rtree>=0.9 in /home/ec2-user/anaconda3/envs/python3/lib/python3.6/site-packages (from osmnx) (0.9.4)\n",
      "Requirement already satisfied: geopandas>=0.8 in /home/ec2-user/anaconda3/envs/python3/lib/python3.6/site-packages (from osmnx) (0.8.1)\n",
      "Requirement already satisfied: decorator>=4.3.0 in /home/ec2-user/anaconda3/envs/python3/lib/python3.6/site-packages (from networkx>=2.5->osmnx) (4.4.2)\n",
      "Requirement already satisfied: cycler>=0.10 in /home/ec2-user/anaconda3/envs/python3/lib/python3.6/site-packages (from matplotlib>=3.3->osmnx) (0.10.0)\n",
      "Requirement already satisfied: python-dateutil>=2.1 in /home/ec2-user/anaconda3/envs/python3/lib/python3.6/site-packages (from matplotlib>=3.3->osmnx) (2.8.1)\n",
      "Requirement already satisfied: pillow>=6.2.0 in /home/ec2-user/anaconda3/envs/python3/lib/python3.6/site-packages (from matplotlib>=3.3->osmnx) (7.1.2)\n",
      "Requirement already satisfied: pyparsing!=2.0.4,!=2.1.2,!=2.1.6,>=2.0.3 in /home/ec2-user/anaconda3/envs/python3/lib/python3.6/site-packages (from matplotlib>=3.3->osmnx) (2.4.6)\n",
      "Requirement already satisfied: kiwisolver>=1.0.1 in /home/ec2-user/anaconda3/envs/python3/lib/python3.6/site-packages (from matplotlib>=3.3->osmnx) (1.1.0)\n",
      "Requirement already satisfied: certifi>=2020.06.20 in /home/ec2-user/anaconda3/envs/python3/lib/python3.6/site-packages (from matplotlib>=3.3->osmnx) (2020.6.20)\n",
      "Requirement already satisfied: pytz>=2017.2 in /home/ec2-user/anaconda3/envs/python3/lib/python3.6/site-packages (from pandas>=1.1->osmnx) (2019.3)\n",
      "Requirement already satisfied: chardet<4,>=3.0.2 in /home/ec2-user/anaconda3/envs/python3/lib/python3.6/site-packages (from requests>=2.24->osmnx) (3.0.4)\n",
      "Requirement already satisfied: urllib3!=1.25.0,!=1.25.1,<1.26,>=1.21.1 in /home/ec2-user/anaconda3/envs/python3/lib/python3.6/site-packages (from requests>=2.24->osmnx) (1.25.8)\n",
      "Requirement already satisfied: idna<3,>=2.5 in /home/ec2-user/anaconda3/envs/python3/lib/python3.6/site-packages (from requests>=2.24->osmnx) (2.9)\n",
      "Requirement already satisfied: setuptools in /home/ec2-user/anaconda3/envs/python3/lib/python3.6/site-packages (from Rtree>=0.9->osmnx) (46.1.3.post20200330)\n",
      "Requirement already satisfied: fiona in /home/ec2-user/anaconda3/envs/python3/lib/python3.6/site-packages (from geopandas>=0.8->osmnx) (1.8.17)\n",
      "Requirement already satisfied: six in /home/ec2-user/anaconda3/envs/python3/lib/python3.6/site-packages (from cycler>=0.10->matplotlib>=3.3->osmnx) (1.14.0)\n",
      "Requirement already satisfied: cligj>=0.5 in /home/ec2-user/anaconda3/envs/python3/lib/python3.6/site-packages (from fiona->geopandas>=0.8->osmnx) (0.5.0)\n",
      "Requirement already satisfied: munch in /home/ec2-user/anaconda3/envs/python3/lib/python3.6/site-packages (from fiona->geopandas>=0.8->osmnx) (2.5.0)\n",
      "Requirement already satisfied: attrs>=17 in /home/ec2-user/anaconda3/envs/python3/lib/python3.6/site-packages (from fiona->geopandas>=0.8->osmnx) (19.3.0)\n",
      "Requirement already satisfied: click-plugins>=1.0 in /home/ec2-user/anaconda3/envs/python3/lib/python3.6/site-packages (from fiona->geopandas>=0.8->osmnx) (1.1.1)\n",
      "Requirement already satisfied: click<8,>=4.0 in /home/ec2-user/anaconda3/envs/python3/lib/python3.6/site-packages (from fiona->geopandas>=0.8->osmnx) (7.1.1)\n",
      "Installing collected packages: networkx, numpy, matplotlib, descartes, pandas, requests, osmnx\n",
      "  Attempting uninstall: networkx\n",
      "    Found existing installation: networkx 2.4\n",
      "    Uninstalling networkx-2.4:\n",
      "      Successfully uninstalled networkx-2.4\n",
      "  Attempting uninstall: numpy\n",
      "    Found existing installation: numpy 1.18.1\n",
      "    Uninstalling numpy-1.18.1:\n",
      "      Successfully uninstalled numpy-1.18.1\n",
      "  Attempting uninstall: matplotlib\n",
      "    Found existing installation: matplotlib 3.1.3\n",
      "    Uninstalling matplotlib-3.1.3:\n",
      "      Successfully uninstalled matplotlib-3.1.3\n",
      "  Attempting uninstall: pandas\n",
      "    Found existing installation: pandas 1.0.5\n",
      "    Uninstalling pandas-1.0.5:\n",
      "      Successfully uninstalled pandas-1.0.5\n",
      "  Attempting uninstall: requests\n",
      "    Found existing installation: requests 2.23.0\n",
      "    Uninstalling requests-2.23.0:\n",
      "      Successfully uninstalled requests-2.23.0\n",
      "Successfully installed descartes-1.1.0 matplotlib-3.3.2 networkx-2.5 numpy-1.19.2 osmnx-0.16.0 pandas-1.1.2 requests-2.24.0\n",
      "\u001b[33mWARNING: You are using pip version 20.0.2; however, version 20.2.3 is available.\n",
      "You should consider upgrading via the '/home/ec2-user/anaconda3/envs/python3/bin/python -m pip install --upgrade pip' command.\u001b[0m\n"
     ]
    }
   ],
   "source": [
    "!pip install osmnx"
   ]
  },
  {
   "cell_type": "code",
   "execution_count": 2,
   "metadata": {},
   "outputs": [
    {
     "name": "stdout",
     "output_type": "stream",
     "text": [
      "Environment ready!\n"
     ]
    }
   ],
   "source": [
    "import osmnx as ox\n",
    "import pandas as pd\n",
    "import numpy as np\n",
    "import geopandas as gpd\n",
    "import random as rand\n",
    "import os\n",
    "import matplotlib.pyplot as plt\n",
    "%matplotlib inline\n",
    "import boto3\n",
    "\n",
    "print('Environment ready!')"
   ]
  },
  {
   "cell_type": "markdown",
   "metadata": {},
   "source": [
    "# Helper Functions"
   ]
  },
  {
   "cell_type": "code",
   "execution_count": 28,
   "metadata": {},
   "outputs": [],
   "source": [
    "def graph_extractor(aoi_name):\n",
    "    graph = ox.graph_from_place(aoi_name, network_type='drive')\n",
    "    print(f'Graphs from {aoi_name} successfully extracted from OSM.')\n",
    "    \n",
    "    nodes, streets = ox.graph_to_gdfs(graph)\n",
    "    print(f' Nodes: {type(nodes)} \\n Streets: {type(streets)} \\n Shape: {streets.shape}')\n",
    "    \n",
    "    return nodes,streets"
   ]
  },
  {
   "cell_type": "markdown",
   "metadata": {},
   "source": [
    "# Extracting Nodes and Edges in Metro Manila"
   ]
  },
  {
   "cell_type": "code",
   "execution_count": null,
   "metadata": {},
   "outputs": [],
   "source": [
    "useful_tags = ox.settings.useful_tags_way + ['cycleway'] + ['bicycle']"
   ]
  },
  {
   "cell_type": "code",
   "execution_count": 64,
   "metadata": {},
   "outputs": [
    {
     "data": {
      "text/plain": [
       "['bridge',\n",
       " 'tunnel',\n",
       " 'oneway',\n",
       " 'lanes',\n",
       " 'ref',\n",
       " 'name',\n",
       " 'highway',\n",
       " 'maxspeed',\n",
       " 'service',\n",
       " 'access',\n",
       " 'area',\n",
       " 'landuse',\n",
       " 'width',\n",
       " 'est_width',\n",
       " 'junction',\n",
       " 'cycleway',\n",
       " 'bicycle',\n",
       " 'cycleway',\n",
       " 'bicycle',\n",
       " 'surface',\n",
       " 'surveillance',\n",
       " 'lane_markings',\n",
       " 'obstacle',\n",
       " 'surface',\n",
       " 'smoothness',\n",
       " 'crossing',\n",
       " 'traffic_signals',\n",
       " 'incline',\n",
       " 'flood_prone']"
      ]
     },
     "execution_count": 64,
     "metadata": {},
     "output_type": "execute_result"
    }
   ],
   "source": [
    "useful_tags"
   ]
  },
  {
   "cell_type": "code",
   "execution_count": 65,
   "metadata": {},
   "outputs": [
    {
     "data": {
      "text/plain": [
       "29"
      ]
     },
     "execution_count": 65,
     "metadata": {},
     "output_type": "execute_result"
    }
   ],
   "source": [
    "len(useful_tags)"
   ]
  },
  {
   "cell_type": "code",
   "execution_count": 60,
   "metadata": {},
   "outputs": [
    {
     "name": "stdout",
     "output_type": "stream",
     "text": [
      "Done\n",
      " Nodes: <class 'geopandas.geodataframe.GeoDataFrame'> \n",
      " Streets: <class 'geopandas.geodataframe.GeoDataFrame'> \n",
      " Shape: (167579, 26)\n"
     ]
    }
   ],
   "source": [
    "ox.utils.config(use_cache=True, log_console=True, useful_tags_way=useful_tags)\n",
    "full_ncr_graph = ox.graph_from_place(aoi, network_type='drive')\n",
    "print('Done')\n",
    "\n",
    "ncr_nodes, ncr_streets = ox.graph_to_gdfs(full_ncr_graph)\n",
    "print(f' Nodes: {type(ncr_nodes)} \\n Streets: {type(ncr_streets)} \\n Shape: {ncr_streets.shape}')"
   ]
  },
  {
   "cell_type": "code",
   "execution_count": 61,
   "metadata": {},
   "outputs": [
    {
     "name": "stdout",
     "output_type": "stream",
     "text": [
      "Shapefile successfully created!\n",
      "Done\n"
     ]
    }
   ],
   "source": [
    "ox.save_graph_shapefile(full_ncr_graph, 'full_ncr_networks_shp')\n",
    "print('Shapefile successfully created!')\n",
    "\n",
    "ncr_nodes.to_csv('full_ncr_nodes.csv', index=False)\n",
    "ncr_streets.to_csv('full_ncr_streets.csv', index=False)\n",
    "print('Done')"
   ]
  },
  {
   "cell_type": "code",
   "execution_count": 63,
   "metadata": {},
   "outputs": [
    {
     "data": {
      "text/plain": [
       "Index(['osmid', 'name', 'highway', 'oneway', 'length', 'lanes', 'maxspeed',\n",
       "       'width', 'surface', 'geometry', 'ref', 'flood_prone', 'tunnel',\n",
       "       'junction', 'cycleway', 'access', 'bicycle', 'bridge', 'smoothness',\n",
       "       'lane_markings', 'incline', 'service', 'crossing', 'u', 'v', 'key'],\n",
       "      dtype='object')"
      ]
     },
     "execution_count": 63,
     "metadata": {},
     "output_type": "execute_result"
    }
   ],
   "source": [
    "ncr_streets.columns"
   ]
  },
  {
   "cell_type": "code",
   "execution_count": 66,
   "metadata": {},
   "outputs": [
    {
     "name": "stdout",
     "output_type": "stream",
     "text": [
      "osmid\n",
      "length\n",
      "geometry\n",
      "u\n",
      "v\n",
      "key\n"
     ]
    }
   ],
   "source": [
    "for col in ncr_streets.columns:\n",
    "    if col not in useful_tags:\n",
    "        print(col)"
   ]
  },
  {
   "cell_type": "code",
   "execution_count": 62,
   "metadata": {},
   "outputs": [
    {
     "data": {
      "text/html": [
       "<div>\n",
       "<style scoped>\n",
       "    .dataframe tbody tr th:only-of-type {\n",
       "        vertical-align: middle;\n",
       "    }\n",
       "\n",
       "    .dataframe tbody tr th {\n",
       "        vertical-align: top;\n",
       "    }\n",
       "\n",
       "    .dataframe thead th {\n",
       "        text-align: right;\n",
       "    }\n",
       "</style>\n",
       "<table border=\"1\" class=\"dataframe\">\n",
       "  <thead>\n",
       "    <tr style=\"text-align: right;\">\n",
       "      <th></th>\n",
       "      <th>osmid</th>\n",
       "      <th>name</th>\n",
       "      <th>highway</th>\n",
       "      <th>oneway</th>\n",
       "      <th>length</th>\n",
       "      <th>lanes</th>\n",
       "      <th>maxspeed</th>\n",
       "      <th>width</th>\n",
       "      <th>surface</th>\n",
       "      <th>geometry</th>\n",
       "      <th>...</th>\n",
       "      <th>bicycle</th>\n",
       "      <th>bridge</th>\n",
       "      <th>smoothness</th>\n",
       "      <th>lane_markings</th>\n",
       "      <th>incline</th>\n",
       "      <th>service</th>\n",
       "      <th>crossing</th>\n",
       "      <th>u</th>\n",
       "      <th>v</th>\n",
       "      <th>key</th>\n",
       "    </tr>\n",
       "  </thead>\n",
       "  <tbody>\n",
       "    <tr>\n",
       "      <th>0</th>\n",
       "      <td>2667105</td>\n",
       "      <td>Manalito</td>\n",
       "      <td>residential</td>\n",
       "      <td>False</td>\n",
       "      <td>129.271</td>\n",
       "      <td>NaN</td>\n",
       "      <td>NaN</td>\n",
       "      <td>NaN</td>\n",
       "      <td>NaN</td>\n",
       "      <td>LINESTRING (120.99497 14.54151, 120.99380 14.5...</td>\n",
       "      <td>...</td>\n",
       "      <td>NaN</td>\n",
       "      <td>NaN</td>\n",
       "      <td>NaN</td>\n",
       "      <td>NaN</td>\n",
       "      <td>NaN</td>\n",
       "      <td>NaN</td>\n",
       "      <td>NaN</td>\n",
       "      <td>12067302</td>\n",
       "      <td>1686647100</td>\n",
       "      <td>0</td>\n",
       "    </tr>\n",
       "    <tr>\n",
       "      <th>1</th>\n",
       "      <td>224039651</td>\n",
       "      <td>F.B. Harrison Street</td>\n",
       "      <td>secondary</td>\n",
       "      <td>False</td>\n",
       "      <td>215.846</td>\n",
       "      <td>2</td>\n",
       "      <td>50</td>\n",
       "      <td>8</td>\n",
       "      <td>asphalt</td>\n",
       "      <td>LINESTRING (120.99497 14.54151, 120.99505 14.5...</td>\n",
       "      <td>...</td>\n",
       "      <td>NaN</td>\n",
       "      <td>NaN</td>\n",
       "      <td>NaN</td>\n",
       "      <td>NaN</td>\n",
       "      <td>NaN</td>\n",
       "      <td>NaN</td>\n",
       "      <td>NaN</td>\n",
       "      <td>12067302</td>\n",
       "      <td>25388521</td>\n",
       "      <td>0</td>\n",
       "    </tr>\n",
       "    <tr>\n",
       "      <th>2</th>\n",
       "      <td>224039651</td>\n",
       "      <td>F.B. Harrison Street</td>\n",
       "      <td>secondary</td>\n",
       "      <td>False</td>\n",
       "      <td>101.755</td>\n",
       "      <td>2</td>\n",
       "      <td>50</td>\n",
       "      <td>8</td>\n",
       "      <td>asphalt</td>\n",
       "      <td>LINESTRING (120.99497 14.54151, 120.99490 14.5...</td>\n",
       "      <td>...</td>\n",
       "      <td>NaN</td>\n",
       "      <td>NaN</td>\n",
       "      <td>NaN</td>\n",
       "      <td>NaN</td>\n",
       "      <td>NaN</td>\n",
       "      <td>NaN</td>\n",
       "      <td>NaN</td>\n",
       "      <td>12067302</td>\n",
       "      <td>24785119</td>\n",
       "      <td>0</td>\n",
       "    </tr>\n",
       "    <tr>\n",
       "      <th>3</th>\n",
       "      <td>224039655</td>\n",
       "      <td>F.B. Harrison Street</td>\n",
       "      <td>secondary</td>\n",
       "      <td>False</td>\n",
       "      <td>76.342</td>\n",
       "      <td>2</td>\n",
       "      <td>50</td>\n",
       "      <td>8</td>\n",
       "      <td>asphalt</td>\n",
       "      <td>LINESTRING (120.99574 14.53784, 120.99572 14.5...</td>\n",
       "      <td>...</td>\n",
       "      <td>NaN</td>\n",
       "      <td>NaN</td>\n",
       "      <td>NaN</td>\n",
       "      <td>NaN</td>\n",
       "      <td>NaN</td>\n",
       "      <td>NaN</td>\n",
       "      <td>NaN</td>\n",
       "      <td>12067308</td>\n",
       "      <td>978165773</td>\n",
       "      <td>0</td>\n",
       "    </tr>\n",
       "    <tr>\n",
       "      <th>4</th>\n",
       "      <td>[644875507, 840378998]</td>\n",
       "      <td>EDSA</td>\n",
       "      <td>trunk</td>\n",
       "      <td>True</td>\n",
       "      <td>182.153</td>\n",
       "      <td>6</td>\n",
       "      <td>60</td>\n",
       "      <td>NaN</td>\n",
       "      <td>concrete</td>\n",
       "      <td>LINESTRING (120.99574 14.53784, 120.99517 14.5...</td>\n",
       "      <td>...</td>\n",
       "      <td>NaN</td>\n",
       "      <td>NaN</td>\n",
       "      <td>NaN</td>\n",
       "      <td>NaN</td>\n",
       "      <td>NaN</td>\n",
       "      <td>NaN</td>\n",
       "      <td>NaN</td>\n",
       "      <td>12067308</td>\n",
       "      <td>7961927111</td>\n",
       "      <td>0</td>\n",
       "    </tr>\n",
       "  </tbody>\n",
       "</table>\n",
       "<p>5 rows × 26 columns</p>\n",
       "</div>"
      ],
      "text/plain": [
       "                    osmid                  name      highway  oneway   length  \\\n",
       "0                 2667105              Manalito  residential   False  129.271   \n",
       "1               224039651  F.B. Harrison Street    secondary   False  215.846   \n",
       "2               224039651  F.B. Harrison Street    secondary   False  101.755   \n",
       "3               224039655  F.B. Harrison Street    secondary   False   76.342   \n",
       "4  [644875507, 840378998]                  EDSA        trunk    True  182.153   \n",
       "\n",
       "  lanes maxspeed width   surface  \\\n",
       "0   NaN      NaN   NaN       NaN   \n",
       "1     2       50     8   asphalt   \n",
       "2     2       50     8   asphalt   \n",
       "3     2       50     8   asphalt   \n",
       "4     6       60   NaN  concrete   \n",
       "\n",
       "                                            geometry  ... bicycle bridge  \\\n",
       "0  LINESTRING (120.99497 14.54151, 120.99380 14.5...  ...     NaN    NaN   \n",
       "1  LINESTRING (120.99497 14.54151, 120.99505 14.5...  ...     NaN    NaN   \n",
       "2  LINESTRING (120.99497 14.54151, 120.99490 14.5...  ...     NaN    NaN   \n",
       "3  LINESTRING (120.99574 14.53784, 120.99572 14.5...  ...     NaN    NaN   \n",
       "4  LINESTRING (120.99574 14.53784, 120.99517 14.5...  ...     NaN    NaN   \n",
       "\n",
       "  smoothness lane_markings incline service crossing         u           v key  \n",
       "0        NaN           NaN     NaN     NaN      NaN  12067302  1686647100   0  \n",
       "1        NaN           NaN     NaN     NaN      NaN  12067302    25388521   0  \n",
       "2        NaN           NaN     NaN     NaN      NaN  12067302    24785119   0  \n",
       "3        NaN           NaN     NaN     NaN      NaN  12067308   978165773   0  \n",
       "4        NaN           NaN     NaN     NaN      NaN  12067308  7961927111   0  \n",
       "\n",
       "[5 rows x 26 columns]"
      ]
     },
     "execution_count": 62,
     "metadata": {},
     "output_type": "execute_result"
    }
   ],
   "source": [
    "ncr_streets.head()"
   ]
  },
  {
   "cell_type": "code",
   "execution_count": null,
   "metadata": {},
   "outputs": [],
   "source": []
  }
 ],
 "metadata": {
  "kernelspec": {
   "display_name": "conda_python3",
   "language": "python",
   "name": "conda_python3"
  },
  "language_info": {
   "codemirror_mode": {
    "name": "ipython",
    "version": 3
   },
   "file_extension": ".py",
   "mimetype": "text/x-python",
   "name": "python",
   "nbconvert_exporter": "python",
   "pygments_lexer": "ipython3",
   "version": "3.6.10"
  }
 },
 "nbformat": 4,
 "nbformat_minor": 4
}
